{
  "nbformat": 4,
  "nbformat_minor": 0,
  "metadata": {
    "colab": {
      "name": "Day1ML.ipynb",
      "provenance": [],
      "collapsed_sections": [],
      "authorship_tag": "ABX9TyOej8WHySdiqfzFpfrMgwHH",
      "include_colab_link": true
    },
    "kernelspec": {
      "name": "python3",
      "display_name": "Python 3"
    },
    "language_info": {
      "name": "python"
    }
  },
  "cells": [
    {
      "cell_type": "markdown",
      "metadata": {
        "id": "view-in-github",
        "colab_type": "text"
      },
      "source": [
        "<a href=\"https://colab.research.google.com/github/renukadimi/Day1_ML/blob/main/Day1ML.ipynb\" target=\"_parent\"><img src=\"https://colab.research.google.com/assets/colab-badge.svg\" alt=\"Open In Colab\"/></a>"
      ]
    },
    {
      "cell_type": "markdown",
      "metadata": {
        "id": "XxndXIPuLGNM"
      },
      "source": [
        "# Numpy"
      ]
    },
    {
      "cell_type": "code",
      "metadata": {
        "colab": {
          "base_uri": "https://localhost:8080/"
        },
        "id": "vie21m08KaQK",
        "outputId": "f47b67b9-8741-4590-b139-cb75cc41da82"
      },
      "source": [
        "# Numpy is for Mathematical operations\n",
        "\n",
        "import numpy as np\n",
        "\n",
        "a=[1,2,3,4,5]\n",
        "\n",
        "arr1 = np.array(a)\n",
        "\n",
        "b=[[1,2,3,4],[5,6,7,8]]\n",
        "\n",
        "arr2 = np.array(b)\n",
        "\n",
        "print(arr1)\n",
        "print(arr2)"
      ],
      "execution_count": 2,
      "outputs": [
        {
          "output_type": "stream",
          "text": [
            "[1 2 3 4 5]\n",
            "[[1 2 3 4]\n",
            " [5 6 7 8]]\n"
          ],
          "name": "stdout"
        }
      ]
    },
    {
      "cell_type": "code",
      "metadata": {
        "colab": {
          "base_uri": "https://localhost:8080/"
        },
        "id": "spwsRBcwNlTf",
        "outputId": "d2143c4f-05ad-4ec3-ab2e-1a555cbe1989"
      },
      "source": [
        "print(type(a),type(arr1),type(b),type(arr2))\n"
      ],
      "execution_count": 7,
      "outputs": [
        {
          "output_type": "stream",
          "text": [
            "<class 'list'> <class 'numpy.ndarray'> <class 'list'> <class 'numpy.ndarray'>\n"
          ],
          "name": "stdout"
        }
      ]
    },
    {
      "cell_type": "code",
      "metadata": {
        "colab": {
          "base_uri": "https://localhost:8080/"
        },
        "id": "Mg0-p_rPOikK",
        "outputId": "e17fabba-47e0-4571-b1a8-e7424daa9de0"
      },
      "source": [
        "import sys\n",
        "\n",
        "s=range(1000)\n",
        "\n",
        "print(\"size of each element in the list in bytes\",sys.getsizeof(s))\n",
        "\n",
        "print(\"Complete list in bytes\",sys.getsizeof(s)*len(s))\n"
      ],
      "execution_count": 8,
      "outputs": [
        {
          "output_type": "stream",
          "text": [
            "size of each element in the list in bytes 48\n",
            "Complete list in bytes 48000\n"
          ],
          "name": "stdout"
        }
      ]
    },
    {
      "cell_type": "code",
      "metadata": {
        "colab": {
          "base_uri": "https://localhost:8080/"
        },
        "id": "-gW6bt1BOphj",
        "outputId": "cc02e8e5-8f0d-4fc2-948c-ad1d0b0e5084"
      },
      "source": [
        "# we are checking comparing between numpy size and normal size of sys package\n",
        "import numpy as np\n",
        "\n",
        "s=np.arange(1000)\n",
        "\n",
        "print(\"Size of each element in the list in byte\",s.itemsize)\n",
        "print(\"Complete list size in bytes\",s.itemsize*s.size)\n",
        "\n",
        "\n"
      ],
      "execution_count": 12,
      "outputs": [
        {
          "output_type": "stream",
          "text": [
            "Size of each element in the list in byte 8\n",
            "Complete list size in bytes 8000\n"
          ],
          "name": "stdout"
        }
      ]
    },
    {
      "cell_type": "code",
      "metadata": {
        "colab": {
          "base_uri": "https://localhost:8080/"
        },
        "id": "myHkqcYtP5i6",
        "outputId": "e14406b6-099e-44ad-eca1-97b15826dcce"
      },
      "source": [
        "#import time library and executing time taking by the system\n",
        "import time\n",
        "\n",
        "a=range(1000)\n",
        "b=range(1000)\n",
        "\n",
        "start =time.time()\n",
        "\n",
        "ab = [(a*b) for a,b in zip(a,b)]\n",
        "\n",
        "end = time.time()\n",
        "\n",
        "print(\"Total time taken for system execution is :\",end - start)\n"
      ],
      "execution_count": 13,
      "outputs": [
        {
          "output_type": "stream",
          "text": [
            "Total time taken for system execution is : 0.00023436546325683594\n"
          ],
          "name": "stdout"
        }
      ]
    },
    {
      "cell_type": "code",
      "metadata": {
        "colab": {
          "base_uri": "https://localhost:8080/"
        },
        "id": "gL7i0DQ5ROq6",
        "outputId": "4088cbf8-f5b8-41fb-8b59-0ee1f2646c15"
      },
      "source": [
        "#Implementing the above segment in numpy\n",
        "import numpy as np\n",
        "import time\n",
        "\n",
        "arr1=np.arange(1000)\n",
        "arr2=np.arange(1000)\n",
        "\n",
        "start=time.time()\n",
        "\n",
        "arr_mul = arr1*arr2\n",
        "\n",
        "end =time.time()\n",
        "\n",
        "print(\"Total time taken for execution is \",end - start)"
      ],
      "execution_count": 15,
      "outputs": [
        {
          "output_type": "stream",
          "text": [
            "Total time taken for execution is  0.00024628639221191406\n"
          ],
          "name": "stdout"
        }
      ]
    },
    {
      "cell_type": "code",
      "metadata": {
        "id": "P-D8y1acR0Ik"
      },
      "source": [
        ""
      ],
      "execution_count": null,
      "outputs": []
    }
  ]
}